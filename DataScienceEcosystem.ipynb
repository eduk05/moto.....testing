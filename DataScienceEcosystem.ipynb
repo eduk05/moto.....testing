{
 "cells": [
  {
   "cell_type": "markdown",
   "id": "91499fcd",
   "metadata": {},
   "source": [
    "# Data Science Tools and Ecosystem"
   ]
  },
  {
   "cell_type": "markdown",
   "id": "bb22b3f7",
   "metadata": {},
   "source": [
    "In this notebook, datascience and ecosystem are summarised."
   ]
  },
  {
   "cell_type": "markdown",
   "id": "f47ea66b",
   "metadata": {},
   "source": [
    "**objectives: **\n",
    ". List popular languages for Data Science\n",
    ". Commonly used libraries by Data scientists\n",
    ". How to evaluate arithmetic operations in python"
   ]
  },
  {
   "cell_type": "markdown",
   "id": "83a14f29",
   "metadata": {},
   "source": [
    "Some of the popular languages that data scientists user are : \n",
    "1. Python\n",
    "2. Java\n",
    "3. JavaScript\n",
    "4. C++\n",
    "5. C"
   ]
  },
  {
   "cell_type": "markdown",
   "id": "d66a582c",
   "metadata": {},
   "source": [
    "Some of the commonly libraries used by Data scientists include:\n",
    "1. Numpy\n",
    "2. Pandas\n",
    "3. TensorFlow\n",
    "4. Matplotlib"
   ]
  },
  {
   "cell_type": "markdown",
   "id": "d206513e",
   "metadata": {},
   "source": [
    "|Data Science Tools|\n",
    "|Tableau|\n",
    "|Weka|\n",
    "|Tensorflow|"
   ]
  },
  {
   "cell_type": "markdown",
   "id": "8d9875fd",
   "metadata": {},
   "source": [
    "|Data Science Tools|\n",
    "|---------/\n",
    "|Tableau| \n",
    "|Weka| \n",
    "|Tensorflow|"
   ]
  },
  {
   "cell_type": "markdown",
   "id": "9c97db95",
   "metadata": {},
   "source": [
    "|Data Science Tools|\n",
    "|---------/---------/---------/\n",
    "|Tableau| \n",
    "|Weka| \n",
    "|Tensorflow|"
   ]
  },
  {
   "cell_type": "markdown",
   "id": "dda79dcd",
   "metadata": {},
   "source": [
    "|Data Science Tools|\n",
    "|------------|\n",
    "|Tableau| \n",
    "|Weka| \n",
    "|Tensorflow|"
   ]
  },
  {
   "cell_type": "markdown",
   "id": "f80294f5",
   "metadata": {},
   "source": [
    "|Data Science Tools|\n",
    "|------------|\n",
    "|Tableau| \n",
    "|Weka| \n",
    "|Tensorflow|"
   ]
  },
  {
   "cell_type": "markdown",
   "id": "8fdd0513",
   "metadata": {},
   "source": [
    "### Below are a few examples of evaluating arithmetic operations in python."
   ]
  },
  {
   "cell_type": "code",
   "execution_count": 1,
   "id": "529caf80",
   "metadata": {},
   "outputs": [
    {
     "data": {
      "text/plain": [
       "17"
      ]
     },
     "execution_count": 1,
     "metadata": {},
     "output_type": "execute_result"
    }
   ],
   "source": [
    "#This a simple arithmetic expression to mutiply then add integers\n",
    "\n",
    "(3*4)+5"
   ]
  },
  {
   "cell_type": "code",
   "execution_count": 2,
   "id": "f0f3744a",
   "metadata": {},
   "outputs": [
    {
     "ename": "IndentationError",
     "evalue": "unexpected indent (890555403.py, line 2)",
     "output_type": "error",
     "traceback": [
      "\u001b[1;36m  Cell \u001b[1;32mIn[2], line 2\u001b[1;36m\u001b[0m\n\u001b[1;33m    float(200/60)\u001b[0m\n\u001b[1;37m    ^\u001b[0m\n\u001b[1;31mIndentationError\u001b[0m\u001b[1;31m:\u001b[0m unexpected indent\n"
     ]
    }
   ],
   "source": [
    " #This will convert 200 minutes to hours by diving by 60\n",
    "    float(200/60)"
   ]
  },
  {
   "cell_type": "code",
   "execution_count": 3,
   "id": "f9350b04",
   "metadata": {},
   "outputs": [
    {
     "ename": "IndentationError",
     "evalue": "unexpected indent (2459111422.py, line 2)",
     "output_type": "error",
     "traceback": [
      "\u001b[1;36m  Cell \u001b[1;32mIn[3], line 2\u001b[1;36m\u001b[0m\n\u001b[1;33m    (200/60)\u001b[0m\n\u001b[1;37m    ^\u001b[0m\n\u001b[1;31mIndentationError\u001b[0m\u001b[1;31m:\u001b[0m unexpected indent\n"
     ]
    }
   ],
   "source": [
    " #This will convert 200 minutes to hours by diving by 60\n",
    "    (200/60)"
   ]
  },
  {
   "cell_type": "code",
   "execution_count": 4,
   "id": "a6b9ce16",
   "metadata": {},
   "outputs": [
    {
     "ename": "IndentationError",
     "evalue": "unexpected indent (1774733716.py, line 2)",
     "output_type": "error",
     "traceback": [
      "\u001b[1;36m  Cell \u001b[1;32mIn[4], line 2\u001b[1;36m\u001b[0m\n\u001b[1;33m    200/60\u001b[0m\n\u001b[1;37m    ^\u001b[0m\n\u001b[1;31mIndentationError\u001b[0m\u001b[1;31m:\u001b[0m unexpected indent\n"
     ]
    }
   ],
   "source": [
    " #This will convert 200 minutes to hours by diving by 60\n",
    "     200/60"
   ]
  },
  {
   "cell_type": "code",
   "execution_count": 5,
   "id": "cb878630",
   "metadata": {},
   "outputs": [
    {
     "name": "stdout",
     "output_type": "stream",
     "text": [
      "3.3333333333333335\n"
     ]
    }
   ],
   "source": [
    "#This will convert 200 minutes to hours by diving by 60\n",
    "hours = 200/60\n",
    "print(hours)"
   ]
  },
  {
   "cell_type": "markdown",
   "id": "d213002a",
   "metadata": {},
   "source": [
    "## Author\n",
    "Edwin Johnson"
   ]
  },
  {
   "cell_type": "code",
   "execution_count": null,
   "id": "da226ae1",
   "metadata": {},
   "outputs": [],
   "source": []
  }
 ],
 "metadata": {
  "kernelspec": {
   "display_name": "Python 3 (ipykernel)",
   "language": "python",
   "name": "python3"
  },
  "language_info": {
   "codemirror_mode": {
    "name": "ipython",
    "version": 3
   },
   "file_extension": ".py",
   "mimetype": "text/x-python",
   "name": "python",
   "nbconvert_exporter": "python",
   "pygments_lexer": "ipython3",
   "version": "3.11.7"
  }
 },
 "nbformat": 4,
 "nbformat_minor": 5
}
